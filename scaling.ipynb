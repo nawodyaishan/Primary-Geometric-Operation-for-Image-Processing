{
 "cells": [
  {
   "cell_type": "code",
   "execution_count": null,
   "id": "7506f55c",
   "metadata": {},
   "outputs": [],
   "source": [
    "import cv2\n",
    "import numpy as np\n",
    "\n",
    "\n",
    "# Scaling operation\n",
    "# Reading original Image\n",
    "image = cv2.imread('cube.jpg')\n",
    "\n",
    "image_sized = cv2.resize(image, (2, 2))\n",
    "\n",
    "# Resizing image using Nearest Neighbour\n",
    "image_re_neighbour = cv2.resize(\n",
    "    image, None, fx=1.5, fy=1.5, interpolation=cv2.INTER_NEAREST)\n",
    "\n",
    "# Resizing image using Linear interpolation\n",
    "image_re_linear = cv2.resize(\n",
    "    image, None, fx=1.5, fy=1.5, interpolation=cv2.INTER_LINEAR)\n",
    "\n",
    "# Resizing using Cubic interpolation\n",
    "image_re_cubic = cv2.resize(\n",
    "    image, None, fx=1.5, fy=1.5, interpolation=cv2.INTER_CUBIC)\n",
    "\n",
    "\n",
    "\n",
    "\n",
    "# Showing all three images\n",
    "cv2.imshow('Linear', image_re_linear)\n",
    "cv2.imshow('Cbubic', image_re_cubic)\n",
    "cv2.imshow('Neighbour', image_re_neighbour)\n",
    "cv2.imshow('original', image)\n",
    "\n",
    "if(cv2.waitKey() == ord('q')):\n",
    "    cv2.destroyAllWindows()\n"
   ]
  },
  {
   "cell_type": "code",
   "execution_count": null,
   "id": "5b75bf46",
   "metadata": {},
   "outputs": [],
   "source": []
  }
 ],
 "metadata": {
  "kernelspec": {
   "display_name": "Python 3",
   "language": "python",
   "name": "python3"
  },
  "language_info": {
   "codemirror_mode": {
    "name": "ipython",
    "version": 3
   },
   "file_extension": ".py",
   "mimetype": "text/x-python",
   "name": "python",
   "nbconvert_exporter": "python",
   "pygments_lexer": "ipython3",
   "version": "3.8.8"
  }
 },
 "nbformat": 4,
 "nbformat_minor": 5
}
