{
 "cells": [
  {
   "cell_type": "code",
   "execution_count": 3,
   "id": "2d787e44",
   "metadata": {},
   "outputs": [],
   "source": [
    "\n",
    "# Importing Image class from PIL module\n",
    "from PIL import Image\n",
    " \n",
    "# Opens a image in RGB mode\n",
    "im = Image.open(r\"nature.jpg\")\n",
    " \n",
    "# Size of the image in pixels (size of original image)\n",
    "\n",
    "width, height = im.size\n",
    " \n",
    "# Setting the points for cropped image\n",
    "left = 4\n",
    "top = height / 5\n",
    "right = 154\n",
    "bottom = 3 * height / 5\n",
    " \n",
    "# Cropped image of above dimension\n",
    "# (It will not change original image)\n",
    "im1 = im.crop((left, top, right, bottom))\n",
    "newsize = (300, 300)\n",
    "im1 = im1.resize(newsize)\n",
    "# Shows the image in image viewer\n",
    "im1.show()"
   ]
  },
  {
   "cell_type": "code",
   "execution_count": 7,
   "id": "45891313",
   "metadata": {},
   "outputs": [],
   "source": [
    "from PIL import Image\n",
    "\n",
    "im = Image.open('nature.jpg')\n",
    "im_rotate = im.rotate(90)"
   ]
  }
 ],
 "metadata": {
  "kernelspec": {
   "display_name": "Python 3",
   "language": "python",
   "name": "python3"
  },
  "language_info": {
   "codemirror_mode": {
    "name": "ipython",
    "version": 3
   },
   "file_extension": ".py",
   "mimetype": "text/x-python",
   "name": "python",
   "nbconvert_exporter": "python",
   "pygments_lexer": "ipython3",
   "version": "3.8.8"
  }
 },
 "nbformat": 4,
 "nbformat_minor": 5
}
