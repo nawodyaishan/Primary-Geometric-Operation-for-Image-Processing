{
 "cells": [
  {
   "cell_type": "code",
   "execution_count": 1,
   "id": "0a61efcc",
   "metadata": {},
   "outputs": [
    {
     "data": {
      "text/plain": [
       "-1"
      ]
     },
     "execution_count": 1,
     "metadata": {},
     "output_type": "execute_result"
    }
   ],
   "source": [
    "import cv2\n",
    "import numpy\n",
    "\n",
    "#Loading image from memory\n",
    "image = cv2.imread('cube.jpg')\n",
    "\n",
    "#Translation matrix\n",
    "matrix = numpy.float32([[1,0,100],[0,1,100]])\n",
    "\n",
    "#Applying the matrix to the image \n",
    "translated = cv2.warpAffine(image, matrix, (image.shape[1]+100,image.shape[0]+100))\n",
    "\n",
    "#Showing the image\n",
    "cv2.imshow('translation', translated)\n",
    "cv2.waitKey(4000)"
   ]
  },
  {
   "cell_type": "code",
   "execution_count": null,
   "id": "ae1462f1-4379-439d-ad81-9e9814339b38",
   "metadata": {},
   "outputs": [],
   "source": []
  },
  {
   "cell_type": "code",
   "execution_count": null,
   "id": "d4e12971",
   "metadata": {},
   "outputs": [],
   "source": []
  }
 ],
 "metadata": {
  "kernelspec": {
   "display_name": "Python 3",
   "language": "python",
   "name": "python3"
  },
  "language_info": {
   "codemirror_mode": {
    "name": "ipython",
    "version": 3
   },
   "file_extension": ".py",
   "mimetype": "text/x-python",
   "name": "python",
   "nbconvert_exporter": "python",
   "pygments_lexer": "ipython3",
   "version": "3.8.8"
  }
 },
 "nbformat": 4,
 "nbformat_minor": 5
}
